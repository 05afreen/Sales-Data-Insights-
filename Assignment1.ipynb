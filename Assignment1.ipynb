{
 "cells": [
  {
   "cell_type": "markdown",
   "id": "bf719487",
   "metadata": {},
   "source": [
    "- importing libraries."
   ]
  },
  {
   "cell_type": "code",
   "execution_count": 1,
   "id": "09a23d78",
   "metadata": {},
   "outputs": [],
   "source": [
    "import numpy as np\n",
    "import pandas as pd\n",
    "import seaborn as sns\n",
    "import matplotlib.pyplot as plt"
   ]
  },
  {
   "cell_type": "markdown",
   "id": "b09351dc",
   "metadata": {},
   "source": [
    "### Step 1: readng CSV\n",
    "- readiing excel file in jupyter notebook."
   ]
  },
  {
   "cell_type": "code",
   "execution_count": 3,
   "id": "fe9bb75b",
   "metadata": {},
   "outputs": [
    {
     "data": {
      "text/html": [
       "<div>\n",
       "<style scoped>\n",
       "    .dataframe tbody tr th:only-of-type {\n",
       "        vertical-align: middle;\n",
       "    }\n",
       "\n",
       "    .dataframe tbody tr th {\n",
       "        vertical-align: top;\n",
       "    }\n",
       "\n",
       "    .dataframe thead th {\n",
       "        text-align: right;\n",
       "    }\n",
       "</style>\n",
       "<table border=\"1\" class=\"dataframe\">\n",
       "  <thead>\n",
       "    <tr style=\"text-align: right;\">\n",
       "      <th></th>\n",
       "      <th>OrderID</th>\n",
       "      <th>Date</th>\n",
       "      <th>Region</th>\n",
       "      <th>CustomerName</th>\n",
       "      <th>Product</th>\n",
       "      <th>Quantity</th>\n",
       "      <th>UnitPrice</th>\n",
       "      <th>TotalSales</th>\n",
       "      <th>PaymentMethod</th>\n",
       "    </tr>\n",
       "  </thead>\n",
       "  <tbody>\n",
       "    <tr>\n",
       "      <th>0</th>\n",
       "      <td>1001</td>\n",
       "      <td>2023-01-15</td>\n",
       "      <td>North</td>\n",
       "      <td>Alice Johnson</td>\n",
       "      <td>Laptop</td>\n",
       "      <td>2.0</td>\n",
       "      <td>700.0</td>\n",
       "      <td>1400.0</td>\n",
       "      <td>Credit Card</td>\n",
       "    </tr>\n",
       "    <tr>\n",
       "      <th>1</th>\n",
       "      <td>1002</td>\n",
       "      <td>2023-01-16</td>\n",
       "      <td>South</td>\n",
       "      <td>Rahul Mehta</td>\n",
       "      <td>Mobile Phone</td>\n",
       "      <td>5.0</td>\n",
       "      <td>300.0</td>\n",
       "      <td>1500.0</td>\n",
       "      <td>UPI</td>\n",
       "    </tr>\n",
       "    <tr>\n",
       "      <th>2</th>\n",
       "      <td>1003</td>\n",
       "      <td>2023-01-17</td>\n",
       "      <td>East</td>\n",
       "      <td>Fatima Noor</td>\n",
       "      <td>Headphones</td>\n",
       "      <td>10.0</td>\n",
       "      <td>50.0</td>\n",
       "      <td>500.0</td>\n",
       "      <td>Debit Card</td>\n",
       "    </tr>\n",
       "    <tr>\n",
       "      <th>3</th>\n",
       "      <td>1004</td>\n",
       "      <td>2023-01-18</td>\n",
       "      <td>West</td>\n",
       "      <td>NaN</td>\n",
       "      <td>Laptop</td>\n",
       "      <td>1.0</td>\n",
       "      <td>720.0</td>\n",
       "      <td>720.0</td>\n",
       "      <td>Credit Card</td>\n",
       "    </tr>\n",
       "    <tr>\n",
       "      <th>4</th>\n",
       "      <td>1005</td>\n",
       "      <td>2023-01-19</td>\n",
       "      <td>North</td>\n",
       "      <td>Zoe Carter</td>\n",
       "      <td>Mobile Phone</td>\n",
       "      <td>3.0</td>\n",
       "      <td>NaN</td>\n",
       "      <td>NaN</td>\n",
       "      <td>UPI</td>\n",
       "    </tr>\n",
       "    <tr>\n",
       "      <th>5</th>\n",
       "      <td>1006</td>\n",
       "      <td>2023-01-20</td>\n",
       "      <td>South</td>\n",
       "      <td>Ankit Tiwari</td>\n",
       "      <td>Keyboard</td>\n",
       "      <td>4.0</td>\n",
       "      <td>100.0</td>\n",
       "      <td>400.0</td>\n",
       "      <td>Wallet</td>\n",
       "    </tr>\n",
       "    <tr>\n",
       "      <th>6</th>\n",
       "      <td>1007</td>\n",
       "      <td>2023-01-21</td>\n",
       "      <td>East</td>\n",
       "      <td>Sarah Lee</td>\n",
       "      <td>Monitor</td>\n",
       "      <td>2.0</td>\n",
       "      <td>200.0</td>\n",
       "      <td>400.0</td>\n",
       "      <td>Credit Card</td>\n",
       "    </tr>\n",
       "    <tr>\n",
       "      <th>7</th>\n",
       "      <td>1008</td>\n",
       "      <td>2023-01-22</td>\n",
       "      <td>West</td>\n",
       "      <td>Daniel Smith</td>\n",
       "      <td>Laptop</td>\n",
       "      <td>NaN</td>\n",
       "      <td>680.0</td>\n",
       "      <td>NaN</td>\n",
       "      <td>Credit Card</td>\n",
       "    </tr>\n",
       "    <tr>\n",
       "      <th>8</th>\n",
       "      <td>1009</td>\n",
       "      <td>2023-01-23</td>\n",
       "      <td>North</td>\n",
       "      <td>Priya Nair</td>\n",
       "      <td>Mobile Phone</td>\n",
       "      <td>4.0</td>\n",
       "      <td>295.0</td>\n",
       "      <td>1180.0</td>\n",
       "      <td>UPI</td>\n",
       "    </tr>\n",
       "    <tr>\n",
       "      <th>9</th>\n",
       "      <td>1010</td>\n",
       "      <td>2023-01-24</td>\n",
       "      <td>South</td>\n",
       "      <td>Ramesh Iyer</td>\n",
       "      <td>Headphones</td>\n",
       "      <td>6.0</td>\n",
       "      <td>55.0</td>\n",
       "      <td>330.0</td>\n",
       "      <td>Debit Card</td>\n",
       "    </tr>\n",
       "    <tr>\n",
       "      <th>10</th>\n",
       "      <td>1011</td>\n",
       "      <td>2023-01-25</td>\n",
       "      <td>East</td>\n",
       "      <td>Maria Gonzalez</td>\n",
       "      <td>Laptop</td>\n",
       "      <td>1.0</td>\n",
       "      <td>710.0</td>\n",
       "      <td>710.0</td>\n",
       "      <td>Wallet</td>\n",
       "    </tr>\n",
       "    <tr>\n",
       "      <th>11</th>\n",
       "      <td>1012</td>\n",
       "      <td>2023-01-26</td>\n",
       "      <td>West</td>\n",
       "      <td>NaN</td>\n",
       "      <td>Monitor</td>\n",
       "      <td>2.0</td>\n",
       "      <td>210.0</td>\n",
       "      <td>420.0</td>\n",
       "      <td>Credit Card</td>\n",
       "    </tr>\n",
       "    <tr>\n",
       "      <th>12</th>\n",
       "      <td>1013</td>\n",
       "      <td>2023-01-27</td>\n",
       "      <td>North</td>\n",
       "      <td>Zoe Carter</td>\n",
       "      <td>Keyboard</td>\n",
       "      <td>3.0</td>\n",
       "      <td>95.0</td>\n",
       "      <td>285.0</td>\n",
       "      <td>Credit Card</td>\n",
       "    </tr>\n",
       "    <tr>\n",
       "      <th>13</th>\n",
       "      <td>1014</td>\n",
       "      <td>2023-01-28</td>\n",
       "      <td>South</td>\n",
       "      <td>Rahul Mehta</td>\n",
       "      <td>Laptop</td>\n",
       "      <td>2.0</td>\n",
       "      <td>700.0</td>\n",
       "      <td>1400.0</td>\n",
       "      <td>UPI</td>\n",
       "    </tr>\n",
       "    <tr>\n",
       "      <th>14</th>\n",
       "      <td>1015</td>\n",
       "      <td>2023-01-29</td>\n",
       "      <td>East</td>\n",
       "      <td>Fatima Noor</td>\n",
       "      <td>Mobile Phone</td>\n",
       "      <td>1.0</td>\n",
       "      <td>290.0</td>\n",
       "      <td>290.0</td>\n",
       "      <td>Wallet</td>\n",
       "    </tr>\n",
       "    <tr>\n",
       "      <th>15</th>\n",
       "      <td>1016</td>\n",
       "      <td>2023-01-30</td>\n",
       "      <td>West</td>\n",
       "      <td>Alice Johnson</td>\n",
       "      <td>Monitor</td>\n",
       "      <td>3.0</td>\n",
       "      <td>195.0</td>\n",
       "      <td>585.0</td>\n",
       "      <td>Credit Card</td>\n",
       "    </tr>\n",
       "    <tr>\n",
       "      <th>16</th>\n",
       "      <td>1017</td>\n",
       "      <td>2023-01-31</td>\n",
       "      <td>North</td>\n",
       "      <td>Daniel Smith</td>\n",
       "      <td>Tablet</td>\n",
       "      <td>2.0</td>\n",
       "      <td>450.0</td>\n",
       "      <td>900.0</td>\n",
       "      <td>UPI</td>\n",
       "    </tr>\n",
       "    <tr>\n",
       "      <th>17</th>\n",
       "      <td>1018</td>\n",
       "      <td>2023-02-01</td>\n",
       "      <td>South</td>\n",
       "      <td>Ankit Tiwari</td>\n",
       "      <td>Smart Watch</td>\n",
       "      <td>1.0</td>\n",
       "      <td>200.0</td>\n",
       "      <td>200.0</td>\n",
       "      <td>Wallet</td>\n",
       "    </tr>\n",
       "    <tr>\n",
       "      <th>18</th>\n",
       "      <td>1019</td>\n",
       "      <td>2023-02-02</td>\n",
       "      <td>East</td>\n",
       "      <td>Sarah Lee</td>\n",
       "      <td>Mobile Phone</td>\n",
       "      <td>2.0</td>\n",
       "      <td>310.0</td>\n",
       "      <td>620.0</td>\n",
       "      <td>UPI</td>\n",
       "    </tr>\n",
       "    <tr>\n",
       "      <th>19</th>\n",
       "      <td>1020</td>\n",
       "      <td>2023-02-03</td>\n",
       "      <td>West</td>\n",
       "      <td>Maria Gonzalez</td>\n",
       "      <td>Laptop</td>\n",
       "      <td>1.0</td>\n",
       "      <td>NaN</td>\n",
       "      <td>700.0</td>\n",
       "      <td>Credit Card</td>\n",
       "    </tr>\n",
       "  </tbody>\n",
       "</table>\n",
       "</div>"
      ],
      "text/plain": [
       "    OrderID        Date Region    CustomerName       Product  Quantity  \\\n",
       "0      1001  2023-01-15  North   Alice Johnson        Laptop       2.0   \n",
       "1      1002  2023-01-16  South     Rahul Mehta  Mobile Phone       5.0   \n",
       "2      1003  2023-01-17   East     Fatima Noor    Headphones      10.0   \n",
       "3      1004  2023-01-18   West             NaN        Laptop       1.0   \n",
       "4      1005  2023-01-19  North      Zoe Carter  Mobile Phone       3.0   \n",
       "5      1006  2023-01-20  South    Ankit Tiwari      Keyboard       4.0   \n",
       "6      1007  2023-01-21   East       Sarah Lee       Monitor       2.0   \n",
       "7      1008  2023-01-22   West    Daniel Smith        Laptop       NaN   \n",
       "8      1009  2023-01-23  North      Priya Nair  Mobile Phone       4.0   \n",
       "9      1010  2023-01-24  South     Ramesh Iyer    Headphones       6.0   \n",
       "10     1011  2023-01-25   East  Maria Gonzalez        Laptop       1.0   \n",
       "11     1012  2023-01-26   West             NaN       Monitor       2.0   \n",
       "12     1013  2023-01-27  North      Zoe Carter      Keyboard       3.0   \n",
       "13     1014  2023-01-28  South     Rahul Mehta        Laptop       2.0   \n",
       "14     1015  2023-01-29   East     Fatima Noor  Mobile Phone       1.0   \n",
       "15     1016  2023-01-30   West   Alice Johnson       Monitor       3.0   \n",
       "16     1017  2023-01-31  North    Daniel Smith        Tablet       2.0   \n",
       "17     1018  2023-02-01  South    Ankit Tiwari   Smart Watch       1.0   \n",
       "18     1019  2023-02-02   East       Sarah Lee  Mobile Phone       2.0   \n",
       "19     1020  2023-02-03   West  Maria Gonzalez        Laptop       1.0   \n",
       "\n",
       "    UnitPrice  TotalSales PaymentMethod  \n",
       "0       700.0      1400.0   Credit Card  \n",
       "1       300.0      1500.0           UPI  \n",
       "2        50.0       500.0    Debit Card  \n",
       "3       720.0       720.0   Credit Card  \n",
       "4         NaN         NaN           UPI  \n",
       "5       100.0       400.0        Wallet  \n",
       "6       200.0       400.0   Credit Card  \n",
       "7       680.0         NaN   Credit Card  \n",
       "8       295.0      1180.0           UPI  \n",
       "9        55.0       330.0    Debit Card  \n",
       "10      710.0       710.0        Wallet  \n",
       "11      210.0       420.0   Credit Card  \n",
       "12       95.0       285.0   Credit Card  \n",
       "13      700.0      1400.0           UPI  \n",
       "14      290.0       290.0        Wallet  \n",
       "15      195.0       585.0   Credit Card  \n",
       "16      450.0       900.0           UPI  \n",
       "17      200.0       200.0        Wallet  \n",
       "18      310.0       620.0           UPI  \n",
       "19        NaN       700.0   Credit Card  "
      ]
     },
     "execution_count": 3,
     "metadata": {},
     "output_type": "execute_result"
    }
   ],
   "source": [
    "data = pd.read_csv('datset - Sheet1.csv')\n",
    "data"
   ]
  },
  {
   "cell_type": "markdown",
   "id": "4777cad0",
   "metadata": {},
   "source": [
    "- concise summary of the DataFrame"
   ]
  },
  {
   "cell_type": "code",
   "execution_count": 4,
   "id": "6752e4e2",
   "metadata": {},
   "outputs": [
    {
     "name": "stdout",
     "output_type": "stream",
     "text": [
      "<class 'pandas.core.frame.DataFrame'>\n",
      "RangeIndex: 20 entries, 0 to 19\n",
      "Data columns (total 9 columns):\n",
      " #   Column         Non-Null Count  Dtype  \n",
      "---  ------         --------------  -----  \n",
      " 0   OrderID        20 non-null     int64  \n",
      " 1   Date           20 non-null     object \n",
      " 2   Region         20 non-null     object \n",
      " 3   CustomerName   18 non-null     object \n",
      " 4   Product        20 non-null     object \n",
      " 5   Quantity       19 non-null     float64\n",
      " 6   UnitPrice      18 non-null     float64\n",
      " 7   TotalSales     18 non-null     float64\n",
      " 8   PaymentMethod  20 non-null     object \n",
      "dtypes: float64(3), int64(1), object(5)\n",
      "memory usage: 1.5+ KB\n"
     ]
    }
   ],
   "source": [
    "data.info()"
   ]
  },
  {
   "cell_type": "markdown",
   "id": "c092ebf2",
   "metadata": {},
   "source": [
    "- Check for missing values\n"
   ]
  },
  {
   "cell_type": "code",
   "execution_count": 13,
   "id": "577286dd",
   "metadata": {},
   "outputs": [
    {
     "name": "stdout",
     "output_type": "stream",
     "text": [
      "OrderID          0\n",
      "Date             0\n",
      "Region           0\n",
      "CustomerName     0\n",
      "Product          0\n",
      "Quantity         0\n",
      "UnitPrice        0\n",
      "TotalSales       0\n",
      "PaymentMethod    0\n",
      "dtype: int64\n"
     ]
    }
   ],
   "source": [
    "print(data.isnull().sum())"
   ]
  },
  {
   "cell_type": "markdown",
   "id": "7bf5655d",
   "metadata": {},
   "source": [
    "### Step 2: Cleaning Data\n",
    "- Handling missing values"
   ]
  },
  {
   "cell_type": "markdown",
   "id": "51305956",
   "metadata": {},
   "source": [
    "1.`CustomerName`: Replace missing with 'Unknown'"
   ]
  },
  {
   "cell_type": "code",
   "execution_count": 8,
   "id": "58c63bbd",
   "metadata": {},
   "outputs": [],
   "source": [
    "data['CustomerName'].fillna('Unknown', inplace=True)"
   ]
  },
  {
   "cell_type": "markdown",
   "id": "c729830c",
   "metadata": {},
   "source": [
    "2. `Quantity`, `UnitPrice`, and `TotalSales`: \n",
    "- We will fill missing values in `Quantity` and `UnitPrice` with their mean values."
   ]
  },
  {
   "cell_type": "code",
   "execution_count": 10,
   "id": "2773ea86",
   "metadata": {},
   "outputs": [],
   "source": [
    "data['Quantity'].fillna(data['Quantity'].mean(), inplace=True)\n",
    "data['UnitPrice'].fillna(data['UnitPrice'].mean(), inplace=True)"
   ]
  },
  {
   "cell_type": "markdown",
   "id": "76f1c6e2",
   "metadata": {},
   "source": [
    "3. For `TotalSales`, we will recalculate it using `Quantity` and `UnitPrice` ."
   ]
  },
  {
   "cell_type": "code",
   "execution_count": 12,
   "id": "4bc113e3",
   "metadata": {},
   "outputs": [],
   "source": [
    "data['TotalSales'].fillna(data['Quantity'] * data['UnitPrice'], inplace=True)"
   ]
  },
  {
   "cell_type": "markdown",
   "id": "88f6cf54",
   "metadata": {},
   "source": [
    "- Verify that there are no missing values left"
   ]
  },
  {
   "cell_type": "code",
   "execution_count": 14,
   "id": "2588c975",
   "metadata": {},
   "outputs": [
    {
     "name": "stdout",
     "output_type": "stream",
     "text": [
      "OrderID          0\n",
      "Date             0\n",
      "Region           0\n",
      "CustomerName     0\n",
      "Product          0\n",
      "Quantity         0\n",
      "UnitPrice        0\n",
      "TotalSales       0\n",
      "PaymentMethod    0\n",
      "dtype: int64\n"
     ]
    }
   ],
   "source": [
    "print(data.isnull().sum())"
   ]
  },
  {
   "cell_type": "markdown",
   "id": "a8557959",
   "metadata": {},
   "source": [
    "### Step 3: Perform Required Analysis"
   ]
  },
  {
   "cell_type": "markdown",
   "id": "0579fffe",
   "metadata": {},
   "source": [
    "1. Sum of sales by region"
   ]
  },
  {
   "cell_type": "code",
   "execution_count": 18,
   "id": "5174fb4e",
   "metadata": {},
   "outputs": [
    {
     "name": "stdout",
     "output_type": "stream",
     "text": [
      "Region\n",
      "East     2520.00\n",
      "North    4808.33\n",
      "South    3830.00\n",
      "West     4393.42\n",
      "Name: TotalSales, dtype: float64\n"
     ]
    }
   ],
   "source": [
    "sales_by_region = round(data.groupby('Region')['TotalSales'].sum(), 2)\n",
    "print(sales_by_region)\n"
   ]
  },
  {
   "cell_type": "markdown",
   "id": "da28676b",
   "metadata": {},
   "source": [
    "2. avg sales per product"
   ]
  },
  {
   "cell_type": "code",
   "execution_count": 17,
   "id": "2cb9bece",
   "metadata": {},
   "outputs": [
    {
     "name": "stdout",
     "output_type": "stream",
     "text": [
      "Product\n",
      "Headphones       415.00\n",
      "Keyboard         342.50\n",
      "Laptop          1149.74\n",
      "Mobile Phone     926.67\n",
      "Monitor          468.33\n",
      "Smart Watch      200.00\n",
      "Tablet           900.00\n",
      "Name: TotalSales, dtype: float64\n"
     ]
    }
   ],
   "source": [
    "avg_sales_per_product = round(data.groupby('Product')['TotalSales'].mean(), 2)\n",
    "print(avg_sales_per_product)\n"
   ]
  },
  {
   "cell_type": "markdown",
   "id": "f1c065c2",
   "metadata": {},
   "source": [
    "3. Highest selling products"
   ]
  },
  {
   "cell_type": "code",
   "execution_count": 19,
   "id": "d1743be5",
   "metadata": {},
   "outputs": [
    {
     "name": "stdout",
     "output_type": "stream",
     "text": [
      "Highest Selling Product: Laptop\n"
     ]
    }
   ],
   "source": [
    "highest_selling_product = data.groupby('Product')['TotalSales'].sum().idxmax()\n",
    "print(f\"Highest Selling Product: {highest_selling_product}\")"
   ]
  },
  {
   "cell_type": "markdown",
   "id": "a4358609",
   "metadata": {},
   "source": [
    "4. lowest selling products"
   ]
  },
  {
   "cell_type": "code",
   "execution_count": 20,
   "id": "6a2df5db",
   "metadata": {},
   "outputs": [
    {
     "name": "stdout",
     "output_type": "stream",
     "text": [
      "Lowest Selling Product: Smart Watch\n"
     ]
    }
   ],
   "source": [
    "lowest_selling_product = data.groupby('Product')['TotalSales'].sum().idxmin()\n",
    "print(f\"Lowest Selling Product: {lowest_selling_product}\")"
   ]
  },
  {
   "cell_type": "markdown",
   "id": "9d01428e",
   "metadata": {},
   "source": [
    "5. Use NumPy to calculate mean, median, and standard deviation of numerical fields"
   ]
  },
  {
   "cell_type": "code",
   "execution_count": 21,
   "id": "9c7d7c70",
   "metadata": {},
   "outputs": [
    {
     "name": "stdout",
     "output_type": "stream",
     "text": [
      "Mean Values:\n",
      " Quantity        2.894737\n",
      "UnitPrice     347.777778\n",
      "TotalSales    777.587719\n",
      "dtype: float64\n"
     ]
    }
   ],
   "source": [
    "mean_values = np.mean(data[['Quantity', 'UnitPrice', 'TotalSales']], axis=0)\n",
    "print(\"Mean Values:\\n\", mean_values)"
   ]
  },
  {
   "cell_type": "code",
   "execution_count": 22,
   "id": "785b010f",
   "metadata": {},
   "outputs": [
    {
     "name": "stdout",
     "output_type": "stream",
     "text": [
      "Median Values:\n",
      " [  2.  297.5 660. ]\n"
     ]
    }
   ],
   "source": [
    "median_values = np.median(data[['Quantity', 'UnitPrice', 'TotalSales']], axis=0)\n",
    "print(\"Median Values:\\n\", median_values)"
   ]
  },
  {
   "cell_type": "code",
   "execution_count": 23,
   "id": "822a121d",
   "metadata": {},
   "outputs": [
    {
     "name": "stdout",
     "output_type": "stream",
     "text": [
      "Standard Deviation Values:\n",
      " Quantity        2.118838\n",
      "UnitPrice     227.399550\n",
      "TotalSales    476.577520\n",
      "dtype: float64\n"
     ]
    }
   ],
   "source": [
    "std_dev_values = np.std(data[['Quantity', 'UnitPrice', 'TotalSales']], axis=0)\n",
    "print(\"Standard Deviation Values:\\n\", std_dev_values)"
   ]
  },
  {
   "cell_type": "markdown",
   "id": "ec3e4e00",
   "metadata": {},
   "source": [
    "### Step 4: Save Cleaned Data "
   ]
  },
  {
   "cell_type": "code",
   "execution_count": 24,
   "id": "01303102",
   "metadata": {},
   "outputs": [],
   "source": [
    "data.to_csv('cleaned_dataset.csv', index=False)\n"
   ]
  }
 ],
 "metadata": {
  "kernelspec": {
   "display_name": "base",
   "language": "python",
   "name": "python3"
  },
  "language_info": {
   "codemirror_mode": {
    "name": "ipython",
    "version": 3
   },
   "file_extension": ".py",
   "mimetype": "text/x-python",
   "name": "python",
   "nbconvert_exporter": "python",
   "pygments_lexer": "ipython3",
   "version": "3.11.7"
  }
 },
 "nbformat": 4,
 "nbformat_minor": 5
}
